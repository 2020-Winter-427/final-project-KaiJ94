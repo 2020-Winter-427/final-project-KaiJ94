{
 "cells": [
  {
   "cell_type": "markdown",
   "metadata": {},
   "source": [
    "Kai Jin\n",
    "\n",
    "final 1"
   ]
  },
  {
   "cell_type": "code",
   "execution_count": 1,
   "metadata": {},
   "outputs": [],
   "source": [
    "from astropy.io import fits\n",
    "import numpy as np\n",
    "import pandas as pd\n",
    "from astropy.table import Column\n",
    "from astropy.table import Table\n",
    "from collections import Counter"
   ]
  },
  {
   "cell_type": "code",
   "execution_count": 2,
   "metadata": {},
   "outputs": [
    {
     "data": {
      "text/html": [
       "<i>Table length=5065</i>\n",
       "<table id=\"table157644232\" class=\"table-striped table-bordered table-condensed\">\n",
       "<thead><tr><th>Source_Name</th><th>RAJ2000</th><th>DEJ2000</th><th>GLON</th><th>GLAT</th><th>Conf_68_SemiMajor</th><th>Conf_68_SemiMinor</th><th>Conf_68_PosAng</th><th>Conf_95_SemiMajor</th><th>Conf_95_SemiMinor</th><th>Conf_95_PosAng</th><th>ROI_num</th><th>Extended_Source_Name</th><th>Signif_Avg</th><th>Pivot_Energy</th><th>Flux1000</th><th>Unc_Flux1000</th><th>Energy_Flux100</th><th>Unc_Energy_Flux100</th><th>SpectrumType</th><th>PL_Flux_Density</th><th>Unc_PL_Flux_Density</th><th>PL_Index</th><th>Unc_PL_Index</th><th>LP_Flux_Density</th><th>Unc_LP_Flux_Density</th><th>LP_Index</th><th>Unc_LP_Index</th><th>LP_beta</th><th>Unc_LP_beta</th><th>LP_SigCurv</th><th>PLEC_Flux_Density</th><th>Unc_PLEC_Flux_Density</th><th>PLEC_Index</th><th>Unc_PLEC_Index</th><th>PLEC_Expfactor</th><th>Unc_PLEC_Expfactor</th><th>PLEC_Exp_Index</th><th>Unc_PLEC_Exp_Index</th><th>PLEC_SigCurv</th><th>Npred</th><th>Flux_Band [7]</th><th>Unc_Flux_Band [7,2]</th><th>nuFnu_Band [7]</th><th>Sqrt_TS_Band [7]</th><th>Variability_Index</th><th>Frac_Variability</th><th>Unc_Frac_Variability</th><th>Signif_Peak</th><th>Flux_Peak</th><th>Unc_Flux_Peak</th><th>Time_Peak</th><th>Peak_Interval</th><th>Flux_History [8]</th><th>Unc_Flux_History [8,2]</th><th>Sqrt_TS_History [8]</th><th>Variability2_Index</th><th>Frac2_Variability</th><th>Unc_Frac2_Variability</th><th>Signif2_Peak</th><th>Flux2_Peak</th><th>Unc_Flux2_Peak</th><th>Time2_Peak</th><th>Peak2_Interval</th><th>Flux2_History [48]</th><th>Unc_Flux2_History [48,2]</th><th>Sqrt_TS2_History [48]</th><th>ASSOC_FGL</th><th>ASSOC_FHL</th><th>ASSOC_GAM1</th><th>ASSOC_GAM2</th><th>ASSOC_GAM3</th><th>TEVCAT_FLAG</th><th>ASSOC_TEV</th><th>CLASS1</th><th>CLASS2</th><th>ASSOC1</th><th>ASSOC2</th><th>ASSOC_PROB_BAY</th><th>ASSOC_PROB_LR</th><th>RA_Counterpart</th><th>DEC_Counterpart</th><th>Unc_Counterpart</th><th>Flags</th></tr></thead>\n",
       "<thead><tr><th>str18</th><th>float32</th><th>float32</th><th>float32</th><th>float32</th><th>float32</th><th>float32</th><th>float32</th><th>float32</th><th>float32</th><th>float32</th><th>int16</th><th>str18</th><th>float32</th><th>float32</th><th>float32</th><th>float32</th><th>float32</th><th>float32</th><th>str17</th><th>float32</th><th>float32</th><th>float32</th><th>float32</th><th>float32</th><th>float32</th><th>float32</th><th>float32</th><th>float32</th><th>float32</th><th>float32</th><th>float32</th><th>float32</th><th>float32</th><th>float32</th><th>float32</th><th>float32</th><th>float32</th><th>float32</th><th>float32</th><th>float32</th><th>float32</th><th>float32</th><th>float32</th><th>float32</th><th>float32</th><th>float32</th><th>float32</th><th>float32</th><th>float32</th><th>float32</th><th>float64</th><th>float32</th><th>float32</th><th>float32</th><th>float32</th><th>float32</th><th>float32</th><th>float32</th><th>float32</th><th>float32</th><th>float32</th><th>float64</th><th>float32</th><th>float32</th><th>float32</th><th>float32</th><th>str18</th><th>str18</th><th>str18</th><th>str18</th><th>str18</th><th>str1</th><th>str30</th><th>str5</th><th>str10</th><th>str28</th><th>str30</th><th>float32</th><th>float32</th><th>float64</th><th>float64</th><th>float32</th><th>int16</th></tr></thead>\n",
       "<tr><td>4FGL J0000.3-7355</td><td>0.0983</td><td>-73.922</td><td>307.70898</td><td>-42.729538</td><td>0.03237818</td><td>0.03145309</td><td>-62.7</td><td>0.0525</td><td>0.051</td><td>-62.7</td><td>881</td><td></td><td>7.3996015</td><td>2430.1826</td><td>1.7194592e-10</td><td>3.1099776e-11</td><td>1.9200529e-12</td><td>3.5204725e-13</td><td>PowerLaw</td><td>2.947622e-14</td><td>5.3317607e-15</td><td>2.119125</td><td>0.14625444</td><td>3.2618748e-14</td><td>7.4857375e-15</td><td>1.9939947</td><td>0.25751528</td><td>0.08968772</td><td>0.14627089</td><td>0.6184386</td><td>3.2236715e-14</td><td>6.6479775e-15</td><td>1.774046</td><td>0.39123338</td><td>0.0014664547</td><td>0.0016885875</td><td>0.6666667</td><td>nan</td><td>1.1123049</td><td>230.86678</td><td>7.587582e-09 .. 1.8191017e-15</td><td>nan .. 3.997588e-12</td><td>1.2097953e-12 .. 9.260327e-17</td><td>0.4075733 .. 0.0</td><td>8.664629</td><td>0.0</td><td>10.0</td><td>nan</td><td>nan</td><td>nan</td><td>nan</td><td>nan</td><td>1.0122899e-17 .. 2.1656164e-09</td><td>nan .. 1.1148549e-09</td><td>0.0 .. 3.2333255</td><td>46.094955</td><td>0.0</td><td>10.0</td><td>nan</td><td>nan</td><td>nan</td><td>nan</td><td>nan</td><td>1.8468845e-13 .. 2.9484994e-09</td><td>nan .. 3.740422e-09</td><td>0.0 .. 1.1250226</td><td></td><td></td><td></td><td></td><td></td><td>N</td><td></td><td></td><td></td><td></td><td></td><td>0.0</td><td>0.0</td><td>nan</td><td>nan</td><td>nan</td><td>0</td></tr>\n",
       "<tr><td>4FGL J0001.2+4741</td><td>0.3126</td><td>47.6859</td><td>114.2502</td><td>-14.338059</td><td>0.036880292</td><td>0.033179928</td><td>-45.9</td><td>0.0598</td><td>0.0538</td><td>-45.9</td><td>783</td><td></td><td>4.19693</td><td>2365.8826</td><td>1.425261e-10</td><td>3.7061673e-11</td><td>1.6307984e-12</td><td>4.4813526e-13</td><td>PowerLaw</td><td>2.5819223e-14</td><td>6.712033e-15</td><td>2.1983633</td><td>0.18752055</td><td>2.6975699e-14</td><td>8.323841e-15</td><td>2.1732736</td><td>0.22415973</td><td>0.02462352</td><td>0.105218925</td><td>0.20407747</td><td>2.6204508e-14</td><td>7.285294e-15</td><td>2.1630445</td><td>0.27689606</td><td>0.00013105916</td><td>0.0008183531</td><td>0.6666667</td><td>nan</td><td>0.1367607</td><td>204.54422</td><td>7.151179e-11 .. 2.7096155e-12</td><td>nan .. 3.6875173e-12</td><td>1.1366452e-14 .. 1.3373796e-13</td><td>0.0 .. 2.2870476</td><td>17.288631</td><td>0.65294766</td><td>0.38334733</td><td>nan</td><td>nan</td><td>nan</td><td>nan</td><td>nan</td><td>3.1961032e-09 .. 1.1060636e-09</td><td>-1.6450239e-09 .. 1.4504494e-09</td><td>2.247299 .. 1.0377002</td><td>49.06467</td><td>0.0</td><td>10.0</td><td>nan</td><td>nan</td><td>nan</td><td>nan</td><td>nan</td><td>7.347997e-09 .. 9.6675164e-14</td><td>-4.2974286e-09 .. 3.4885959e-09</td><td>2.044906 .. 0.0</td><td></td><td></td><td></td><td></td><td></td><td>N</td><td></td><td>bcu</td><td></td><td>B3 2358+474</td><td></td><td>0.99609655</td><td>0.93856317</td><td>0.3293408</td><td>47.7002009361</td><td>8.4e-07</td><td>0</td></tr>\n",
       "<tr><td>4FGL J0001.2-0747</td><td>0.3151</td><td>-7.7971</td><td>89.03272</td><td>-67.30501</td><td>0.018440146</td><td>0.017576728</td><td>64.1</td><td>0.0299</td><td>0.0285</td><td>64.1</td><td>1065</td><td></td><td>22.748436</td><td>1272.3579</td><td>8.397412e-10</td><td>6.210809e-11</td><td>9.440178e-12</td><td>6.5065303e-13</td><td>PowerLaw</td><td>5.775262e-13</td><td>3.8504878e-14</td><td>2.1483262</td><td>0.052848384</td><td>6.168165e-13</td><td>4.9127437e-14</td><td>2.112588</td><td>0.06558173</td><td>0.04727811</td><td>0.035733853</td><td>1.417618</td><td>6.038487e-13</td><td>4.5671925e-14</td><td>2.024555</td><td>0.11915199</td><td>0.00087994453</td><td>0.000833099</td><td>0.6666667</td><td>nan</td><td>1.3473072</td><td>964.35376</td><td>8.459674e-09 .. 7.646548e-12</td><td>nan .. 7.733324e-12</td><td>1.3472868e-12 .. 3.8481387e-13</td><td>0.4026817 .. 3.23644</td><td>16.869194</td><td>0.21193315</td><td>0.10133888</td><td>nan</td><td>nan</td><td>nan</td><td>nan</td><td>nan</td><td>9.51228e-09 .. 1.0707386e-08</td><td>-1.7126117e-09 .. 2.2640039e-09</td><td>8.058511 .. 7.0331426</td><td>74.58931</td><td>0.35993442</td><td>0.10551395</td><td>4.587444</td><td>2.6004436e-08</td><td>7.814623e-09</td><td>410280000.0</td><td>5260000.0</td><td>7.098161e-09 .. 2.5113283e-09</td><td>-3.860991e-09 .. 5.2874456e-09</td><td>2.1914814 .. 0.55168295</td><td>3FGL J0001.2-0748</td><td>3FHL J0001.2-0748</td><td></td><td></td><td></td><td>N</td><td></td><td>bll</td><td></td><td>PMN J0001-0746</td><td></td><td>0.99701446</td><td>0.93293214</td><td>0.3251038</td><td>-7.774144975</td><td>1.8e-07</td><td>0</td></tr>\n",
       "<tr><td>4FGL J0001.5+2113</td><td>0.3815</td><td>21.2183</td><td>107.64935</td><td>-40.167652</td><td>0.026025891</td><td>0.02399069</td><td>-60.52</td><td>0.0422</td><td>0.0389</td><td>-60.52</td><td>1052</td><td></td><td>30.666046</td><td>376.39575</td><td>9.679271e-10</td><td>6.664196e-11</td><td>1.926035e-11</td><td>8.209581e-13</td><td>LogParabola</td><td>2.456884e-11</td><td>9.654817e-13</td><td>2.6801705</td><td>0.03160488</td><td>2.8544818e-11</td><td>1.3323774e-12</td><td>2.5975513</td><td>0.04493158</td><td>0.14800178</td><td>0.03150326</td><td>5.0912256</td><td>2.770607e-11</td><td>1.2545347e-12</td><td>2.2559347</td><td>0.09734816</td><td>0.008391433</td><td>0.0019107913</td><td>0.6666667</td><td>nan</td><td>5.1336794</td><td>3110.8848</td><td>6.076074e-08 .. 4.3676648e-16</td><td>-3.257256e-08 .. 7.088971e-12</td><td>9.694278e-12 .. 1.3123844e-17</td><td>1.8693799 .. 0.0</td><td>920.6774</td><td>1.2660484</td><td>0.34029126</td><td>36.357975</td><td>2.0457098e-07</td><td>6.9757986e-09</td><td>476029728.0</td><td>31559456.0</td><td>2.8632572e-09 .. 2.0457098e-07</td><td>-2.8214096e-09 .. 6.9757986e-09</td><td>1.0153345 .. 36.357975</td><td>1405.2292</td><td>1.5165793</td><td>0.15975192</td><td>23.536596</td><td>3.7788544e-07</td><td>1.9317792e-08</td><td>478660000.0</td><td>5260000.0</td><td>1.0097717e-08 .. 2.92537e-07</td><td>-8.477271e-09 .. 1.6876552e-08</td><td>1.1920942 .. 19.83616</td><td>3FGL J0001.4+2120</td><td></td><td></td><td>3EG J2359+2041</td><td></td><td>N</td><td></td><td>fsrq</td><td></td><td>TXS 2358+209</td><td></td><td>0.9980486</td><td>0.95818156</td><td>0.3848771</td><td>21.2267429583</td><td>3.4e-07</td><td>0</td></tr>\n",
       "<tr><td>4FGL J0001.6-4156</td><td>0.4165</td><td>-41.9425</td><td>334.22635</td><td>-72.02855</td><td>0.04267753</td><td>0.03237818</td><td>44.09</td><td>0.0692</td><td>0.0525</td><td>44.09</td><td>1132</td><td></td><td>11.464017</td><td>3475.903</td><td>2.808932e-10</td><td>3.8070012e-11</td><td>3.3864803e-12</td><td>4.9140433e-13</td><td>PowerLaw</td><td>2.4366343e-14</td><td>3.2843035e-15</td><td>1.8335938</td><td>0.097189896</td><td>2.5478741e-14</td><td>4.3022527e-15</td><td>1.7955886</td><td>0.13819773</td><td>0.025063045</td><td>0.06202956</td><td>0.40303585</td><td>2.5091259e-14</td><td>3.6336816e-15</td><td>1.7589177</td><td>0.16583534</td><td>0.00018568659</td><td>0.00036177432</td><td>0.6666667</td><td>nan</td><td>0.52552384</td><td>241.04272</td><td>1.0302515e-08 .. 1.8549785e-11</td><td>nan .. 9.09656e-12</td><td>1.6614231e-12 .. 1.0612429e-12</td><td>0.73823917 .. 4.592498</td><td>13.750535</td><td>0.40142947</td><td>0.20551185</td><td>nan</td><td>nan</td><td>nan</td><td>nan</td><td>nan</td><td>3.314668e-09 .. 1.461703e-09</td><td>-8.846559e-10 .. 7.014583e-10</td><td>5.3916793 .. 3.9168482</td><td>51.684322</td><td>0.0</td><td>10.0</td><td>nan</td><td>nan</td><td>nan</td><td>nan</td><td>nan</td><td>4.2727777e-09 .. 2.32563e-09</td><td>-2.7615716e-09 .. 2.578451e-09</td><td>1.7613449 .. 2.4256542</td><td>3FGL J0002.2-4152</td><td>3FHL J0001.9-4155</td><td></td><td></td><td></td><td>N</td><td></td><td>bcu</td><td></td><td>1RXS J000135.5-415519</td><td></td><td>0.9963356</td><td>0.85456926</td><td>0.386479595833</td><td>-41.9237053972</td><td>6.9e-05</td><td>0</td></tr>\n",
       "<tr><td>4FGL J0002.1-6728</td><td>0.5378</td><td>-67.4746</td><td>310.08493</td><td>-48.963467</td><td>0.021708801</td><td>0.019180218</td><td>52.51</td><td>0.0352</td><td>0.0311</td><td>52.51</td><td>758</td><td></td><td>11.558185</td><td>4380.837</td><td>2.2861259e-10</td><td>3.4612122e-11</td><td>2.8217526e-12</td><td>4.3319076e-13</td><td>PowerLaw</td><td>1.31245875e-14</td><td>1.939184e-15</td><td>1.8019888</td><td>0.09519692</td><td>1.6348425e-14</td><td>2.8458242e-15</td><td>1.6902436</td><td>0.14996767</td><td>0.1313003</td><td>0.07734571</td><td>2.0598197</td><td>1.5736591e-14</td><td>2.6525603e-15</td><td>1.369492</td><td>0.26890424</td><td>0.0013444218</td><td>0.00085268216</td><td>0.6666667</td><td>nan</td><td>2.2240562</td><td>206.59764</td><td>1.9192893e-08 .. 7.833483e-12</td><td>nan .. 5.5786725e-12</td><td>3.099022e-12 .. 4.5417454e-13</td><td>0.8899454 .. 4.388391</td><td>10.018329</td><td>0.27502185</td><td>0.25776625</td><td>nan</td><td>nan</td><td>nan</td><td>nan</td><td>nan</td><td>1.3854623e-09 .. 5.5545285e-10</td><td>-5.6785243e-10 .. 5.1142074e-10</td><td>4.018636 .. 1.8164829</td><td>68.84153</td><td>0.56564575</td><td>0.30873504</td><td>nan</td><td>nan</td><td>nan</td><td>nan</td><td>nan</td><td>1.9091206e-09 .. 5.9198263e-12</td><td>-1.276567e-09 .. 2.6906957e-09</td><td>2.6049104 .. 0.0</td><td>3FGL J0002.0-6722</td><td>3FHL J0002.1-6728</td><td></td><td></td><td></td><td>N</td><td></td><td>bcu</td><td></td><td>SUMSS J000215-672653</td><td></td><td>0.9966394</td><td>0.9044934</td><td>0.563303229167</td><td>-67.4481760667</td><td>1.6e-05</td><td>0</td></tr>\n",
       "<tr><td>4FGL J0002.1+6721</td><td>0.5419</td><td>67.3578</td><td>118.20349</td><td>4.939485</td><td>0.07400727</td><td>0.05303855</td><td>-82.1</td><td>0.12</td><td>0.086</td><td>-82.1</td><td>162</td><td></td><td>6.701878</td><td>1284.9344</td><td>6.924514e-10</td><td>1.0789758e-10</td><td>6.1846257e-12</td><td>1.6245728e-12</td><td>LogParabola</td><td>4.4165653e-13</td><td>7.54173e-14</td><td>2.600463</td><td>0.09825083</td><td>6.5666775e-13</td><td>1.0165137e-13</td><td>2.6206763</td><td>0.21873616</td><td>0.3613416</td><td>0.15034156</td><td>3.6965556</td><td>6.436786e-13</td><td>1.1967807e-13</td><td>1.5108674</td><td>0.5716248</td><td>0.012101845</td><td>0.0063787973</td><td>0.6666667</td><td>nan</td><td>3.5462244</td><td>769.45374</td><td>1.635225e-08 .. 1.2539162e-16</td><td>nan .. 3.7324054e-12</td><td>2.7777702e-12 .. 3.4853574e-18</td><td>0.2587687 .. 0.0</td><td>6.027517</td><td>0.0</td><td>10.0</td><td>nan</td><td>nan</td><td>nan</td><td>nan</td><td>nan</td><td>1.7090484e-08 .. 8.063082e-09</td><td>-4.62798e-09 .. 3.4932222e-09</td><td>3.9472017 .. 2.4351223</td><td>59.8069</td><td>0.263743</td><td>0.26833716</td><td>nan</td><td>nan</td><td>nan</td><td>nan</td><td>nan</td><td>3.63995e-08 .. 1.2887654e-09</td><td>-1.0853522e-08 .. 9.090093e-09</td><td>3.7569568 .. 0.10144312</td><td></td><td></td><td></td><td></td><td></td><td>N</td><td></td><td>unk</td><td></td><td>1RXS J000209.4+672503</td><td></td><td>0.0</td><td>0.95309293</td><td>0.5391738414764404</td><td>67.41764068603516</td><td>0.00045</td><td>1</td></tr>\n",
       "<tr><td>4FGL J0002.8+6217</td><td>0.7201</td><td>62.2905</td><td>117.32041</td><td>-0.051036116</td><td>0.016528292</td><td>0.015788218</td><td>3.84</td><td>0.0268</td><td>0.0256</td><td>3.84</td><td>1389</td><td></td><td>27.668653</td><td>1326.5831</td><td>2.568837e-09</td><td>1.2585273e-10</td><td>1.8611144e-11</td><td>1.5058056e-12</td><td>PLSuperExpCutoff</td><td>1.5252416e-12</td><td>7.322932e-14</td><td>2.4731266</td><td>0.034980703</td><td>2.1236194e-12</td><td>1.13342095e-13</td><td>2.3412225</td><td>0.07613683</td><td>0.42859668</td><td>0.06502477</td><td>9.461157</td><td>2.0840447e-12</td><td>1.088479e-13</td><td>1.1812959</td><td>0.19059318</td><td>0.0130063975</td><td>0.0018857798</td><td>0.6666667</td><td>nan</td><td>9.680294</td><td>2344.4587</td><td>2.845911e-11 .. 1.627271e-15</td><td>nan .. 3.4346137e-12</td><td>4.6827492e-15 .. 4.523126e-17</td><td>0.0 .. 0.0</td><td>4.7018147</td><td>0.0</td><td>10.0</td><td>nan</td><td>nan</td><td>nan</td><td>nan</td><td>nan</td><td>2.3310402e-08 .. 2.5580889e-08</td><td>-3.4769427e-09 .. 3.0730258e-09</td><td>7.886338 .. 10.673558</td><td>42.946877</td><td>0.0</td><td>10.0</td><td>nan</td><td>nan</td><td>nan</td><td>nan</td><td>nan</td><td>1.1521575e-08 .. 1.9016902e-08</td><td>-7.2602377e-09 .. 7.716708e-09</td><td>1.6788208 .. 3.1248739</td><td>3FGL J0002.6+6218</td><td></td><td></td><td></td><td></td><td>N</td><td></td><td>PSR</td><td></td><td>PSR J0002+6216</td><td></td><td>1.0</td><td>0.0</td><td>0.7421860098838806</td><td>62.26932907104492</td><td>3.1734315e-05</td><td>0</td></tr>\n",
       "<tr><td>4FGL J0003.1-5248</td><td>0.7817</td><td>-52.8071</td><td>318.9899</td><td>-62.788944</td><td>0.020537019</td><td>0.018810183</td><td>-41.61</td><td>0.0333</td><td>0.0305</td><td>-41.61</td><td>1240</td><td></td><td>13.530244</td><td>3921.086</td><td>3.0080502e-10</td><td>4.0236574e-11</td><td>3.5972744e-12</td><td>4.8938463e-13</td><td>PowerLaw</td><td>2.0852484e-14</td><td>2.7380336e-15</td><td>1.845431</td><td>0.09169981</td><td>2.347271e-14</td><td>3.6631985e-15</td><td>1.7601653</td><td>0.12932381</td><td>0.07142608</td><td>0.060838696</td><td>1.2588248</td><td>2.2917007e-14</td><td>3.3108026e-15</td><td>1.600626</td><td>0.19333006</td><td>0.0006890638</td><td>0.0005297295</td><td>0.6666667</td><td>nan</td><td>1.5307184</td><td>271.99768</td><td>2.3693903e-11 .. 1.1746969e-11</td><td>nan .. 6.921775e-12</td><td>3.8191674e-15 .. 6.687131e-13</td><td>0.0 .. 5.658823</td><td>5.567842</td><td>0.0</td><td>10.0</td><td>nan</td><td>nan</td><td>nan</td><td>nan</td><td>nan</td><td>9.997185e-10 .. 2.1854105e-09</td><td>-6.364825e-10 .. 8.4259055e-10</td><td>1.6953061 .. 5.60904</td><td>59.186577</td><td>0.0</td><td>10.0</td><td>nan</td><td>nan</td><td>nan</td><td>nan</td><td>nan</td><td>1.1285587e-11 .. 1.5180189e-09</td><td>nan .. 2.2588071e-09</td><td>0.0 .. 1.1374369</td><td>3FGL J0003.2-5246</td><td>3FHL J0003.3-5248</td><td></td><td></td><td></td><td>N</td><td></td><td>bcu</td><td></td><td>RBS 0006</td><td></td><td>0.9830022</td><td>0.85980093</td><td>0.831668583333</td><td>-52.7909124778</td><td>4.628482e-06</td><td>0</td></tr>\n",
       "<tr><td>4FGL J0003.2+2207</td><td>0.8058</td><td>22.1302</td><td>108.438545</td><td>-39.380795</td><td>0.06006924</td><td>0.05328524</td><td>-75.21</td><td>0.0974</td><td>0.0864</td><td>-75.21</td><td>1052</td><td></td><td>4.199248</td><td>2339.043</td><td>1.4516446e-10</td><td>3.733854e-11</td><td>1.7323027e-12</td><td>5.317863e-13</td><td>PowerLaw</td><td>2.6846196e-14</td><td>6.8901514e-15</td><td>2.275706</td><td>0.22956596</td><td>2.3520065e-14</td><td>1.13899114e-14</td><td>0.43892384</td><td>0.5404578</td><td>0.99964654</td><td>0.024958888</td><td>1.7167195</td><td>2.898313e-14</td><td>1.0761166e-14</td><td>0.00074892124</td><td>0.05938773</td><td>0.010533763</td><td>0.0024197397</td><td>0.6666667</td><td>nan</td><td>1.686878</td><td>212.16591</td><td>1.277446e-08 .. 1.0717248e-17</td><td>nan .. 4.8369143e-12</td><td>2.024252e-12 .. 5.136341e-19</td><td>0.37949467 .. 0.0</td><td>4.7351174</td><td>0.0</td><td>10.0</td><td>nan</td><td>nan</td><td>nan</td><td>nan</td><td>nan</td><td>4.29051e-09 .. 4.0351193e-09</td><td>-1.5916732e-09 .. 2.9201368e-09</td><td>3.41118 .. 1.7756478</td><td>37.37233</td><td>0.0</td><td>10.0</td><td>nan</td><td>nan</td><td>nan</td><td>nan</td><td>nan</td><td>1.5482271e-09 .. 9.739215e-09</td><td>nan .. 7.773093e-09</td><td>0.23362543 .. 2.1698852</td><td></td><td></td><td></td><td></td><td></td><td>N</td><td></td><td>bll</td><td></td><td>2MASX J00032450+2204559</td><td></td><td>nan</td><td>0.0</td><td>0.852178433333</td><td>22.0821530694</td><td>2.3101897e-07</td><td>0</td></tr>\n",
       "<tr><td>...</td><td>...</td><td>...</td><td>...</td><td>...</td><td>...</td><td>...</td><td>...</td><td>...</td><td>...</td><td>...</td><td>...</td><td>...</td><td>...</td><td>...</td><td>...</td><td>...</td><td>...</td><td>...</td><td>...</td><td>...</td><td>...</td><td>...</td><td>...</td><td>...</td><td>...</td><td>...</td><td>...</td><td>...</td><td>...</td><td>...</td><td>...</td><td>...</td><td>...</td><td>...</td><td>...</td><td>...</td><td>...</td><td>...</td><td>...</td><td>...</td><td>...</td><td>...</td><td>...</td><td>...</td><td>...</td><td>...</td><td>...</td><td>...</td><td>...</td><td>...</td><td>...</td><td>...</td><td>...</td><td>...</td><td>...</td><td>...</td><td>...</td><td>...</td><td>...</td><td>...</td><td>...</td><td>...</td><td>...</td><td>...</td><td>...</td><td>...</td><td>...</td><td>...</td><td>...</td><td>...</td><td>...</td><td>...</td><td>...</td><td>...</td><td>...</td><td>...</td><td>...</td><td>...</td><td>...</td><td>...</td><td>...</td><td>...</td><td>...</td></tr>\n",
       "<tr><td>4FGL J2358.1-2853</td><td>359.5498</td><td>-28.8936</td><td>21.289448</td><td>-78.12421</td><td>0.0366336</td><td>0.03299491</td><td>-49.03</td><td>0.0594</td><td>0.0535</td><td>-49.03</td><td>763</td><td></td><td>11.813027</td><td>1258.9543</td><td>3.270215e-10</td><td>4.106633e-11</td><td>3.7994646e-12</td><td>4.3543115e-13</td><td>PowerLaw</td><td>2.415155e-13</td><td>2.7664127e-14</td><td>2.2303898</td><td>0.09100842</td><td>2.8558959e-13</td><td>3.9269687e-14</td><td>2.120458</td><td>0.1434822</td><td>0.15606366</td><td>0.0977715</td><td>1.9953961</td><td>2.8010458e-13</td><td>3.6552186e-14</td><td>1.7202803</td><td>0.30203018</td><td>0.0043050996</td><td>0.002537121</td><td>0.6666667</td><td>nan</td><td>2.207903</td><td>487.92407</td><td>3.623778e-13 .. 1.5322908e-15</td><td>nan .. 6.592798e-12</td><td>5.75254e-17 .. 7.4706334e-17</td><td>0.0 .. 0.0</td><td>3.1411064</td><td>0.0</td><td>10.0</td><td>nan</td><td>nan</td><td>nan</td><td>nan</td><td>nan</td><td>3.791681e-09 .. 5.3183413e-09</td><td>-1.401573e-09 .. 1.958061e-09</td><td>3.5867555 .. 3.7871037</td><td>36.138</td><td>0.0</td><td>10.0</td><td>nan</td><td>nan</td><td>nan</td><td>nan</td><td>nan</td><td>7.226893e-09 .. 2.2289026e-09</td><td>-3.5919752e-09 .. 3.2193848e-09</td><td>2.9013388 .. 1.338017</td><td>3FGL J2358.3-2853</td><td></td><td></td><td></td><td></td><td>N</td><td></td><td>bcu</td><td></td><td>PMN J2358-2853</td><td></td><td>0.9958972</td><td>0.9362704</td><td>359.570714825</td><td>-28.8928064306</td><td>2.4e-07</td><td>0</td></tr>\n",
       "<tr><td>4FGL J2358.3-1021</td><td>359.5822</td><td>-10.3616</td><td>83.67932</td><td>-69.081</td><td>0.040889017</td><td>0.03392</td><td>86.38</td><td>0.0663</td><td>0.055</td><td>86.38</td><td>1065</td><td></td><td>20.492502</td><td>526.9234</td><td>6.429595e-10</td><td>5.4998114e-11</td><td>1.0858042e-11</td><td>6.456661e-13</td><td>PowerLaw</td><td>5.4861016e-12</td><td>3.2470353e-13</td><td>2.606263</td><td>0.049039587</td><td>6.152451e-12</td><td>4.3897088e-13</td><td>2.5673738</td><td>0.06640085</td><td>0.107265174</td><td>0.047441512</td><td>2.2625198</td><td>6.050031e-12</td><td>4.1870535e-13</td><td>2.300829</td><td>0.14535223</td><td>0.005176982</td><td>0.0023971947</td><td>0.6666667</td><td>nan</td><td>2.2154205</td><td>1688.1403</td><td>4.8550973e-08 .. 3.084376e-12</td><td>-2.5669674e-08 .. 7.1591496e-12</td><td>7.594561e-12 .. 1.3157978e-13</td><td>1.8046432 .. 0.9046864</td><td>131.67485</td><td>0.6828536</td><td>0.19181295</td><td>13.293174</td><td>5.5775814e-08</td><td>5.232094e-09</td><td>444470016.0</td><td>31560000.0</td><td>1.8414363e-08 .. 2.7284084e-08</td><td>-3.1212264e-09 .. 4.2578248e-09</td><td>6.5608587 .. 7.917026</td><td>236.6237</td><td>0.80869025</td><td>0.101684965</td><td>9.828657</td><td>9.0950685e-08</td><td>1.1201785e-08</td><td>373460000.0</td><td>5260000.0</td><td>1.545839e-08 .. 1.8711968e-09</td><td>-7.186017e-09 .. 7.36834e-09</td><td>2.3854296 .. 0.21541488</td><td>3FGL J2358.2-1022</td><td></td><td></td><td></td><td></td><td>N</td><td></td><td>fsrq</td><td></td><td>PKS 2355-106</td><td></td><td>0.9929752</td><td>0.9992676</td><td>359.545343346</td><td>-10.3357253889</td><td>6.8e-08</td><td>0</td></tr>\n",
       "<tr><td>4FGL J2358.3+3830</td><td>359.5883</td><td>38.5097</td><td>111.66197</td><td>-23.197569</td><td>0.024792437</td><td>0.02127709</td><td>85.64</td><td>0.0402</td><td>0.0345</td><td>85.64</td><td>719</td><td></td><td>12.745411</td><td>2114.3704</td><td>4.6377102e-10</td><td>5.189535e-11</td><td>5.20794e-12</td><td>5.856564e-13</td><td>PowerLaw</td><td>1.07076694e-13</td><td>1.1947832e-14</td><td>2.1442876</td><td>0.08638588</td><td>1.1488271e-13</td><td>1.4809651e-14</td><td>2.1159337</td><td>0.10564445</td><td>0.048508137</td><td>0.053840686</td><td>0.98454565</td><td>1.136312e-13</td><td>1.4119098e-14</td><td>1.985304</td><td>0.19070952</td><td>0.00083659485</td><td>0.0009575959</td><td>0.6666667</td><td>nan</td><td>1.0599405</td><td>592.27856</td><td>7.129059e-10 .. 4.51238e-12</td><td>nan .. 4.8312014e-12</td><td>1.1355547e-13 .. 2.274457e-13</td><td>0.0 .. 2.8095121</td><td>25.004208</td><td>0.4576808</td><td>0.17491236</td><td>8.75636</td><td>1.42181635e-08</td><td>2.3196556e-09</td><td>381350016.0</td><td>31560000.0</td><td>2.3788957e-09 .. 4.0002686e-09</td><td>-1.3002948e-09 .. 2.054147e-09</td><td>2.2235138 .. 2.4310124</td><td>87.706085</td><td>0.45390013</td><td>0.16176485</td><td>5.584337</td><td>2.8052693e-08</td><td>6.943959e-09</td><td>389240000.0</td><td>5260000.0</td><td>5.912433e-13 .. 9.011857e-09</td><td>nan .. 7.0826016e-09</td><td>0.0 .. 1.399539</td><td>3FGL J2358.5+3827</td><td>3FHL J2358.5+3829</td><td></td><td></td><td></td><td>N</td><td></td><td>bll</td><td></td><td>B3 2355+382</td><td></td><td>0.9791001</td><td>0.0</td><td>359.604886054</td><td>38.4823602167</td><td>1.9e-07</td><td>0</td></tr>\n",
       "<tr><td>4FGL J2358.5-1808</td><td>359.6387</td><td>-18.1408</td><td>66.59328</td><td>-74.86357</td><td>0.016528292</td><td>0.015664874</td><td>-78.27</td><td>0.0268</td><td>0.0254</td><td>-78.27</td><td>1189</td><td></td><td>17.628614</td><td>2561.119</td><td>5.1287136e-10</td><td>5.0166742e-11</td><td>5.897328e-12</td><td>6.1852986e-13</td><td>PowerLaw</td><td>7.864573e-14</td><td>7.680206e-15</td><td>1.9145136</td><td>0.06971452</td><td>9.1328055e-14</td><td>1.0541764e-14</td><td>1.7833686</td><td>0.11869156</td><td>0.11113284</td><td>0.059628986</td><td>2.2197444</td><td>8.988243e-14</td><td>9.9540364e-15</td><td>1.5088553</td><td>0.20253395</td><td>0.0016805583</td><td>0.0008545227</td><td>0.6666667</td><td>nan</td><td>2.6701381</td><td>432.41168</td><td>1.8595676e-12 .. 6.4017194e-12</td><td>nan .. 6.0227266e-12</td><td>2.9891594e-16 .. 3.5406476e-13</td><td>0.0 .. 4.343057</td><td>16.163673</td><td>0.30255744</td><td>0.15286389</td><td>nan</td><td>nan</td><td>nan</td><td>nan</td><td>nan</td><td>4.5501327e-09 .. 6.4811756e-09</td><td>-1.0707691e-09 .. 1.3148905e-09</td><td>6.557528 .. 10.16729</td><td>64.29171</td><td>0.28370515</td><td>0.23558214</td><td>nan</td><td>nan</td><td>nan</td><td>nan</td><td>nan</td><td>2.588542e-09 .. 2.916554e-09</td><td>-1.7259285e-09 .. 2.5802043e-09</td><td>2.322128 .. 2.77502</td><td>3FGL J2358.6-1809</td><td>3FHL J2358.4-1808</td><td></td><td></td><td></td><td>N</td><td></td><td>bcu</td><td></td><td>1RXS J235836.3-180701</td><td></td><td>0.97818893</td><td>0.0</td><td>359.653507225</td><td>-18.1215255611</td><td>5.5e-07</td><td>0</td></tr>\n",
       "<tr><td>4FGL J2359.0+3922</td><td>359.7548</td><td>39.3669</td><td>112.0038</td><td>-22.389944</td><td>0.03712698</td><td>0.034290038</td><td>39.79</td><td>0.0602</td><td>0.0556</td><td>39.79</td><td>719</td><td></td><td>6.7446766</td><td>1902.8857</td><td>2.3994207e-10</td><td>4.329254e-11</td><td>2.898749e-12</td><td>5.725916e-13</td><td>PowerLaw</td><td>7.1129436e-14</td><td>1.27844716e-14</td><td>2.2937973</td><td>0.13954687</td><td>7.1673265e-14</td><td>1.4507218e-14</td><td>2.2926097</td><td>0.1423677</td><td>0.0047255084</td><td>0.060458776</td><td>0.09699273</td><td>7.207261e-14</td><td>1.3748699e-14</td><td>2.253577</td><td>0.20800312</td><td>0.00020929796</td><td>0.0008557623</td><td>0.6666667</td><td>nan</td><td>0.2678625</td><td>387.10333</td><td>1.17855005e-11 .. 5.19551e-15</td><td>nan .. 5.0414334e-12</td><td>1.8662107e-15 .. 2.473198e-16</td><td>0.0 .. 0.0</td><td>19.99359</td><td>0.7970894</td><td>0.30417916</td><td>6.056702</td><td>1.47249954e-08</td><td>3.204191e-09</td><td>444470016.0</td><td>31560000.0</td><td>3.1602414e-09 .. 4.4499178e-09</td><td>-1.7897817e-09 .. 2.5262472e-09</td><td>1.9913173 .. 2.2098138</td><td>51.29802</td><td>0.0</td><td>10.0</td><td>nan</td><td>nan</td><td>nan</td><td>nan</td><td>nan</td><td>9.3848405e-09 .. 7.351315e-10</td><td>-5.037561e-09 .. 9.597284e-09</td><td>2.2414062 .. 0.10899467</td><td>3FGL J2358.9+3926</td><td></td><td></td><td></td><td></td><td>N</td><td></td><td>fsrq</td><td></td><td>B2 2356+39</td><td></td><td>0.99832827</td><td>0.9671962</td><td>359.749396517</td><td>39.3745294278</td><td>1.2e-07</td><td>0</td></tr>\n",
       "<tr><td>4FGL J2359.0-3038</td><td>359.7719</td><td>-30.6367</td><td>12.809109</td><td>-78.02417</td><td>0.014061383</td><td>0.013568</td><td>24.26</td><td>0.0228</td><td>0.022</td><td>24.26</td><td>763</td><td></td><td>18.841291</td><td>2787.5815</td><td>5.3069066e-10</td><td>4.9743765e-11</td><td>6.070889e-12</td><td>5.9860173e-13</td><td>PowerLaw</td><td>6.9187345e-14</td><td>6.4859655e-15</td><td>1.9260067</td><td>0.07293684</td><td>6.545487e-14</td><td>7.2425205e-15</td><td>1.9623427</td><td>0.07345935</td><td>-0.02911125</td><td>0.02866434</td><td>0.8932594</td><td>6.945496e-14</td><td>6.8294284e-15</td><td>1.9133278</td><td>0.10918842</td><td>3.5043773e-05</td><td>0.00024384307</td><td>0.6666667</td><td>nan</td><td>0.13611576</td><td>490.18997</td><td>3.5032543e-11 .. 2.260218e-11</td><td>nan .. 1.008036e-11</td><td>5.6287266e-15 .. 1.2441364e-12</td><td>0.0 .. 7.883658</td><td>1.7662028</td><td>0.0</td><td>10.0</td><td>nan</td><td>nan</td><td>nan</td><td>nan</td><td>nan</td><td>6.0971863e-09 .. 4.7649316e-09</td><td>-1.2295992e-09 .. 1.4291893e-09</td><td>8.359058 .. 5.0463233</td><td>74.55232</td><td>0.39925408</td><td>0.15524286</td><td>6.538452</td><td>1.4521203e-08</td><td>3.9044212e-09</td><td>257740000.0</td><td>5260000.0</td><td>5.8559215e-09 .. 3.0447291e-09</td><td>-3.1533451e-09 .. 2.5967115e-09</td><td>2.180703 .. 2.072833</td><td>3FGL J2359.3-3038</td><td>3FHL J2359.1-3038</td><td></td><td></td><td></td><td>P</td><td>H 2356-309</td><td>bll</td><td></td><td>H 2356-309</td><td></td><td>0.9993343</td><td>0.995549</td><td>359.782931004</td><td>-30.6279650528</td><td>1.1e-06</td><td>0</td></tr>\n",
       "<tr><td>4FGL J2359.1+1719</td><td>359.7756</td><td>17.3225</td><td>105.51741</td><td>-43.772465</td><td>0.03342662</td><td>0.031268075</td><td>-18.99</td><td>0.0542</td><td>0.0507</td><td>-18.99</td><td>404</td><td></td><td>5.246136</td><td>2806.8425</td><td>1.4034242e-10</td><td>3.4145076e-11</td><td>1.5638267e-12</td><td>3.800622e-13</td><td>PowerLaw</td><td>1.7963556e-14</td><td>4.3633983e-15</td><td>2.0173845</td><td>0.15897809</td><td>2.2688143e-14</td><td>6.3958103e-15</td><td>1.9148227</td><td>0.23257433</td><td>0.14757928</td><td>0.13565704</td><td>1.2697212</td><td>2.0320134e-14</td><td>5.4047864e-15</td><td>1.7456938</td><td>0.33434534</td><td>0.0011236694</td><td>0.0013524991</td><td>0.6666667</td><td>nan</td><td>0.97440636</td><td>137.096</td><td>1.7606476e-10 .. 3.054346e-12</td><td>nan .. 4.1724298e-12</td><td>2.818599e-14 .. 1.6194657e-13</td><td>0.0 .. 2.596696</td><td>9.075151</td><td>0.089437686</td><td>1.9153326</td><td>nan</td><td>nan</td><td>nan</td><td>nan</td><td>nan</td><td>8.27887e-10 .. 1.454915e-09</td><td>-7.085489e-10 .. 1.2334793e-09</td><td>1.1998118 .. 1.5447867</td><td>34.406498</td><td>0.0</td><td>10.0</td><td>nan</td><td>nan</td><td>nan</td><td>nan</td><td>nan</td><td>6.534612e-10 .. 2.7466065e-09</td><td>nan .. 4.3350608e-09</td><td>0.39020863 .. 0.813344</td><td></td><td></td><td></td><td></td><td></td><td>N</td><td></td><td>bcu</td><td></td><td>NVSS J235901+171926</td><td></td><td>nan</td><td>0.0</td><td>359.75488035</td><td>17.3237807889</td><td>7.1e-07</td><td>0</td></tr>\n",
       "<tr><td>4FGL J2359.3-2049</td><td>359.8357</td><td>-20.8189</td><td>58.090145</td><td>-76.54286</td><td>0.02460742</td><td>0.02146211</td><td>-73.9</td><td>0.0399</td><td>0.0348</td><td>-73.9</td><td>1189</td><td></td><td>12.162575</td><td>2121.9211</td><td>3.2516803e-10</td><td>4.1334092e-11</td><td>3.61964e-12</td><td>4.6775084e-13</td><td>PowerLaw</td><td>7.328716e-14</td><td>9.226786e-15</td><td>2.0252185</td><td>0.097519375</td><td>7.5110294e-14</td><td>1.1195015e-14</td><td>2.0062335</td><td>0.12036463</td><td>0.015638012</td><td>0.053756908</td><td>0.28403413</td><td>7.5721534e-14</td><td>1.0164496e-14</td><td>1.9302683</td><td>0.16649926</td><td>0.00037862425</td><td>0.0005792064</td><td>0.6666667</td><td>nan</td><td>0.71705</td><td>333.45966</td><td>1.04988125e-08 .. 8.907851e-12</td><td>nan .. 6.6782383e-12</td><td>1.680219e-12 .. 4.7081257e-13</td><td>0.9440106 .. 4.4092913</td><td>11.047518</td><td>0.23717654</td><td>0.19612534</td><td>nan</td><td>nan</td><td>nan</td><td>nan</td><td>nan</td><td>3.6568646e-09 .. 4.513634e-09</td><td>-1.2199609e-09 .. 1.3880984e-09</td><td>3.9007053 .. 5.8154993</td><td>52.897404</td><td>0.0</td><td>10.0</td><td>nan</td><td>nan</td><td>nan</td><td>nan</td><td>nan</td><td>7.467763e-10 .. 7.1448745e-09</td><td>nan .. 4.3420516e-09</td><td>0.33033207 .. 3.0347807</td><td>3FGL J2359.5-2052</td><td>3FHL J2359.3-2049</td><td></td><td></td><td></td><td>N</td><td></td><td>bll</td><td></td><td>TXS 2356-210</td><td></td><td>0.9944744</td><td>0.97152853</td><td>359.831390913</td><td>-20.7988971833</td><td>1e-06</td><td>0</td></tr>\n",
       "<tr><td>4FGL J2359.3+1444</td><td>359.839</td><td>14.7498</td><td>104.56471</td><td>-46.256252</td><td>0.13672844</td><td>0.08837702</td><td>-65.4</td><td>0.2217</td><td>0.1433</td><td>-65.4</td><td>404</td><td></td><td>5.3261867</td><td>726.9351</td><td>1.6422166e-10</td><td>3.7693935e-11</td><td>2.542465e-12</td><td>4.864103e-13</td><td>PowerLaw</td><td>5.6911035e-13</td><td>1.062319e-13</td><td>2.5406415</td><td>0.13870822</td><td>8.193919e-13</td><td>1.7807171e-13</td><td>1.9543023</td><td>0.4664845</td><td>0.61367035</td><td>0.37649637</td><td>2.5445664</td><td>7.8633356e-13</td><td>1.7231602e-13</td><td>0.7483926</td><td>1.2383674</td><td>0.02252303</td><td>0.016201876</td><td>0.6666667</td><td>nan</td><td>2.6005297</td><td>380.02985</td><td>7.373937e-09 .. 1.7848123e-19</td><td>nan .. 4.7270087e-12</td><td>1.156412e-12 .. 7.782088e-21</td><td>0.4351155 .. 0.0</td><td>13.979377</td><td>0.52743</td><td>0.3068121</td><td>nan</td><td>nan</td><td>nan</td><td>nan</td><td>nan</td><td>1.1875979e-08 .. 7.697097e-09</td><td>-2.911905e-09 .. 3.2292398e-09</td><td>4.5239377 .. 2.6634297</td><td>42.71755</td><td>0.0</td><td>10.0</td><td>nan</td><td>nan</td><td>nan</td><td>nan</td><td>nan</td><td>1.4824779e-08 .. 1.6395072e-08</td><td>-6.7997354e-09 .. 9.099791e-09</td><td>2.3619268 .. 2.0359368</td><td></td><td></td><td></td><td></td><td></td><td>N</td><td></td><td></td><td>agn</td><td></td><td>SDSS J23593+1448</td><td>0.24</td><td>0.0</td><td>359.82501220703125</td><td>14.81470012664795</td><td>0.0045</td><td>0</td></tr>\n",
       "<tr><td>4FGL J2359.9-3736</td><td>359.9816</td><td>-37.616</td><td>345.66284</td><td>-74.919624</td><td>0.050756656</td><td>0.043540947</td><td>-58.77</td><td>0.0823</td><td>0.0706</td><td>-58.77</td><td>1132</td><td></td><td>8.283625</td><td>2116.968</td><td>1.9467555e-10</td><td>3.26568e-11</td><td>2.1683595e-12</td><td>3.6956094e-13</td><td>PowerLaw</td><td>4.404515e-14</td><td>7.32805e-15</td><td>2.0203912</td><td>0.11543471</td><td>5.6972303e-14</td><td>1.107513e-14</td><td>1.8880585</td><td>0.18711258</td><td>0.19566432</td><td>0.12052917</td><td>2.0855482</td><td>5.381956e-14</td><td>1.0402842e-14</td><td>1.4936775</td><td>0.38340437</td><td>0.0030138765</td><td>0.0023491108</td><td>0.6666667</td><td>nan</td><td>1.8248161</td><td>216.93622</td><td>1.34893685e-11 .. 3.3144492e-12</td><td>nan .. 4.4724545e-12</td><td>2.1592386e-15 .. 1.755236e-13</td><td>0.0 .. 1.7288963</td><td>4.2310514</td><td>0.0</td><td>10.0</td><td>nan</td><td>nan</td><td>nan</td><td>nan</td><td>nan</td><td>3.006373e-09 .. 5.1162474e-10</td><td>-1.1001948e-09 .. 9.263917e-10</td><td>3.7752736 .. 0.70622134</td><td>40.93243</td><td>0.0</td><td>10.0</td><td>nan</td><td>nan</td><td>nan</td><td>nan</td><td>nan</td><td>5.667314e-12 .. 7.0947714e-12</td><td>nan .. 2.8917926e-09</td><td>0.0 .. 0.0</td><td>3FGL J0000.2-3738</td><td></td><td></td><td></td><td></td><td>N</td><td></td><td>bcu</td><td></td><td>2MASS J00000839-3738208</td><td></td><td>0.99134934</td><td>0.0</td><td>0.0350590375</td><td>-37.6390759444</td><td>3.2783254e-07</td><td>0</td></tr>\n",
       "</table>"
      ],
      "text/plain": [
       "<Table length=5065>\n",
       "   Source_Name     RAJ2000  DEJ2000  ...  DEC_Counterpart  Unc_Counterpart Flags\n",
       "      str18        float32  float32  ...      float64          float32     int16\n",
       "------------------ -------- -------- ... ----------------- --------------- -----\n",
       "4FGL J0000.3-7355    0.0983  -73.922 ...               nan             nan     0\n",
       "4FGL J0001.2+4741    0.3126  47.6859 ...     47.7002009361         8.4e-07     0\n",
       "4FGL J0001.2-0747    0.3151  -7.7971 ...      -7.774144975         1.8e-07     0\n",
       "4FGL J0001.5+2113    0.3815  21.2183 ...     21.2267429583         3.4e-07     0\n",
       "4FGL J0001.6-4156    0.4165 -41.9425 ...    -41.9237053972         6.9e-05     0\n",
       "4FGL J0002.1-6728    0.5378 -67.4746 ...    -67.4481760667         1.6e-05     0\n",
       "4FGL J0002.1+6721    0.5419  67.3578 ... 67.41764068603516         0.00045     1\n",
       "4FGL J0002.8+6217    0.7201  62.2905 ... 62.26932907104492   3.1734315e-05     0\n",
       "4FGL J0003.1-5248    0.7817 -52.8071 ...    -52.7909124778    4.628482e-06     0\n",
       "4FGL J0003.2+2207    0.8058  22.1302 ...     22.0821530694   2.3101897e-07     0\n",
       "               ...      ...      ... ...               ...             ...   ...\n",
       "4FGL J2358.1-2853  359.5498 -28.8936 ...    -28.8928064306         2.4e-07     0\n",
       "4FGL J2358.3-1021  359.5822 -10.3616 ...    -10.3357253889         6.8e-08     0\n",
       "4FGL J2358.3+3830  359.5883  38.5097 ...     38.4823602167         1.9e-07     0\n",
       "4FGL J2358.5-1808  359.6387 -18.1408 ...    -18.1215255611         5.5e-07     0\n",
       "4FGL J2359.0+3922  359.7548  39.3669 ...     39.3745294278         1.2e-07     0\n",
       "4FGL J2359.0-3038  359.7719 -30.6367 ...    -30.6279650528         1.1e-06     0\n",
       "4FGL J2359.1+1719  359.7756  17.3225 ...     17.3237807889         7.1e-07     0\n",
       "4FGL J2359.3-2049  359.8357 -20.8189 ...    -20.7988971833           1e-06     0\n",
       "4FGL J2359.3+1444   359.839  14.7498 ... 14.81470012664795          0.0045     0\n",
       "4FGL J2359.9-3736  359.9816  -37.616 ...    -37.6390759444   3.2783254e-07     0"
      ]
     },
     "execution_count": 2,
     "metadata": {},
     "output_type": "execute_result"
    }
   ],
   "source": [
    "file = fits.open('./gll_psc_v21.fit')\n",
    "data = file[1].data\n",
    "evt_data = Table(data)\n",
    "evt_data"
   ]
  },
  {
   "cell_type": "markdown",
   "metadata": {},
   "source": [
    "Source_Name', 'Extended_Source_Name','ASSOC_FGL', 'ASSOC_FHL', 'ASSOC_GAM1', 'ASSOC_GAM2', 'ASSOC_GAM3', 'TEVCAT_FLAG', 'ASSOC_TEV', 'ASSOC1', 'ASSOC2', 'ASSOC_PROB_BAY', 'ASSOC_PROB_LR', 'SpectrumType' can be removed because they are string and not relative to type of a star\n",
    "\n"
   ]
  },
  {
   "cell_type": "code",
   "execution_count": 3,
   "metadata": {},
   "outputs": [],
   "source": [
    "cols_remove = ['Flux_Band', 'Unc_Flux_Band', 'nuFnu_Band', 'Sqrt_TS_Band', 'Flux_History', 'Unc_Flux_History',\n",
    "               'Sqrt_TS_History', 'Flux2_History', 'Unc_Flux2_History', 'Sqrt_TS2_History','Source_Name',\n",
    "               'Extended_Source_Name','ASSOC_FGL', 'ASSOC_FHL', 'ASSOC_GAM1', 'ASSOC_GAM2', 'ASSOC_GAM3',\n",
    "               'TEVCAT_FLAG', 'ASSOC_TEV', 'ASSOC1', 'ASSOC2', 'ASSOC_PROB_BAY', 'ASSOC_PROB_LR', 'SpectrumType','Flags']\n",
    "evt_data.remove_columns(cols_remove)"
   ]
  },
  {
   "cell_type": "code",
   "execution_count": 4,
   "metadata": {},
   "outputs": [],
   "source": [
    "#Combine two columns of class into one column\n",
    "c = np.array([i+j for i, j in zip(evt_data['CLASS1'], evt_data['CLASS2'])])\n",
    "c = [x.strip() for x in c]\n",
    "#Give each type of star an int code\n",
    "l = []\n",
    "for e in c:\n",
    "    if e=='agn':\n",
    "        l.append(1)\n",
    "    elif e=='bcu':\n",
    "        l.append(2)\n",
    "    elif e=='bin':\n",
    "        l.append(3)\n",
    "    elif e=='bll':\n",
    "        l.append(4)\n",
    "    elif e=='css':\n",
    "        l.append(5)\n",
    "    elif e=='fsrq':\n",
    "        l.append(6)\n",
    "    elif e=='gal':\n",
    "        l.append(7)\n",
    "    elif e=='glc':\n",
    "        l.append(8)\n",
    "    elif e=='hmb':\n",
    "        l.append(9)\n",
    "    elif e=='mc':\n",
    "        l.append(10)\n",
    "    elif e=='nlsy1':\n",
    "        l.append(11)\n",
    "    elif e=='nov':\n",
    "        l.append(12)\n",
    "    elif e=='PSR':\n",
    "        l.append(13)\n",
    "    elif e=='psr':\n",
    "        l.append(14)\n",
    "    elif e=='pwn':\n",
    "        l.append(15)\n",
    "    elif e=='rdg':\n",
    "        l.append(16)\n",
    "    elif e=='sbg':\n",
    "        l.append(17)\n",
    "    elif e=='sey':\n",
    "        l.append(18)\n",
    "    elif e=='sfr':\n",
    "        l.append(19)\n",
    "    elif e=='snr':\n",
    "        l.append(20)\n",
    "    elif e=='spp':\n",
    "        l.append(21)\n",
    "    elif e=='ssrq':\n",
    "        l.append(22)\n",
    "    else:\n",
    "        l.append(0)\n",
    "    # 0 for unknown and no specific situations\n",
    "CLASS = l"
   ]
  },
  {
   "cell_type": "code",
   "execution_count": 5,
   "metadata": {},
   "outputs": [],
   "source": [
    "#drop old CLASS columns and insert new one\n",
    "col_c = Column(name='CLASS', data=l)\n",
    "evt_data.add_column(col_c)\n",
    "evt_data.remove_columns(['CLASS1', 'CLASS2'])\n",
    "\n",
    "#build pandas dataframe\n",
    "df = evt_data.to_pandas()"
   ]
  },
  {
   "cell_type": "code",
   "execution_count": 6,
   "metadata": {},
   "outputs": [],
   "source": [
    "#replace all 'nan' values to 0\n",
    "for col in df:\n",
    "    df[col] = df[col].replace('nan', np.nan).fillna(0)"
   ]
  },
  {
   "cell_type": "code",
   "execution_count": 7,
   "metadata": {},
   "outputs": [],
   "source": [
    "#select specific type stars\n",
    "a=[]\n",
    "for i in range(len(CLASS)):\n",
    "    if l[i]!=1:\n",
    "        a.append(i)"
   ]
  },
  {
   "cell_type": "code",
   "execution_count": 8,
   "metadata": {},
   "outputs": [],
   "source": [
    "#get specific type stars data and make a determine standard\n",
    "dft1=df.drop(a)\n",
    "s = 0.1"
   ]
  },
  {
   "cell_type": "code",
   "execution_count": 9,
   "metadata": {},
   "outputs": [],
   "source": [
    "#calculate std for each columns\n",
    "std1 = []\n",
    "for col in dft1:\n",
    "    std1.append(np.std(dft1[col]))\n",
    "  \n",
    "#find columns are satisfy determine standard\n",
    "v1 = []\n",
    "for i in range(len(std1)):\n",
    "    if std1[i]<s:\n",
    "        v1.append(i)"
   ]
  },
  {
   "cell_type": "code",
   "execution_count": 10,
   "metadata": {},
   "outputs": [],
   "source": [
    "a=[]\n",
    "for i in range(len(CLASS)):\n",
    "    if l[i]!=2:\n",
    "        a.append(i)\n",
    "dft2=df.drop(a)\n",
    "\n",
    "std2 = []\n",
    "for col in dft2:\n",
    "    std2.append(np.std(dft2[col]))\n",
    "    \n",
    "v2 = []\n",
    "for i in range(len(std2)):\n",
    "    if std2[i]<s:\n",
    "        v2.append(i)"
   ]
  },
  {
   "cell_type": "code",
   "execution_count": 11,
   "metadata": {},
   "outputs": [],
   "source": [
    "a=[]\n",
    "for i in range(len(CLASS)):\n",
    "    if l[i]!=3:\n",
    "        a.append(i)\n",
    "dft3=df.drop(a)\n",
    "\n",
    "std3 = []\n",
    "for col in dft3:\n",
    "    std2.append(np.std(dft3[col]))\n",
    "    \n",
    "v3 = []\n",
    "for i in range(len(std3)):\n",
    "    if std3[i]<s:\n",
    "        v3.append(i)"
   ]
  },
  {
   "cell_type": "code",
   "execution_count": 12,
   "metadata": {},
   "outputs": [],
   "source": [
    "a=[]\n",
    "for i in range(len(CLASS)):\n",
    "    if l[i]!=4:\n",
    "        a.append(i)\n",
    "dft4=df.drop(a)\n",
    "\n",
    "std4 = []\n",
    "for col in dft4:\n",
    "    std4.append(np.std(dft4[col]))\n",
    "    \n",
    "v4 = []\n",
    "for i in range(len(std4)):\n",
    "    if std4[i]<s:\n",
    "        v4.append(i)"
   ]
  },
  {
   "cell_type": "code",
   "execution_count": 13,
   "metadata": {},
   "outputs": [],
   "source": [
    "a=[]\n",
    "for i in range(len(CLASS)):\n",
    "    if l[i]!=5:\n",
    "        a.append(i)\n",
    "dft5=df.drop(a)\n",
    "\n",
    "std5 = []\n",
    "for col in dft5:\n",
    "    std5.append(np.std(dft5[col]))\n",
    "    \n",
    "v5 = []\n",
    "for i in range(len(std5)):\n",
    "    if std5[i]<s:\n",
    "        v5.append(i)"
   ]
  },
  {
   "cell_type": "code",
   "execution_count": 14,
   "metadata": {},
   "outputs": [],
   "source": [
    "a=[]\n",
    "for i in range(len(CLASS)):\n",
    "    if l[i]!=6:\n",
    "        a.append(i)\n",
    "dft6=df.drop(a)\n",
    "\n",
    "std6 = []\n",
    "for col in dft6:\n",
    "    std6.append(np.std(dft6[col]))\n",
    "    \n",
    "v6 = []\n",
    "for i in range(len(std6)):\n",
    "    if std6[i]<s:\n",
    "        v6.append(i)"
   ]
  },
  {
   "cell_type": "code",
   "execution_count": 15,
   "metadata": {},
   "outputs": [],
   "source": [
    "a=[]\n",
    "for i in range(len(CLASS)):\n",
    "    if l[i]!=7:\n",
    "        a.append(i)\n",
    "dft7=df.drop(a)\n",
    "\n",
    "std7 = []\n",
    "for col in dft7:\n",
    "    std7.append(np.std(dft7[col]))\n",
    "    \n",
    "v7 = []\n",
    "for i in range(len(std7)):\n",
    "    if std7[i]<s:\n",
    "        v7.append(i)"
   ]
  },
  {
   "cell_type": "code",
   "execution_count": 16,
   "metadata": {},
   "outputs": [],
   "source": [
    "a=[]\n",
    "for i in range(len(CLASS)):\n",
    "    if l[i]!=8:\n",
    "        a.append(i)\n",
    "dft8=df.drop(a)\n",
    "\n",
    "std8 = []\n",
    "for col in dft8:\n",
    "    std8.append(np.std(dft8[col]))\n",
    "    \n",
    "v8 = []\n",
    "for i in range(len(std8)):\n",
    "    if std8[i]<s:\n",
    "        v8.append(i)"
   ]
  },
  {
   "cell_type": "code",
   "execution_count": 17,
   "metadata": {},
   "outputs": [],
   "source": [
    "a=[]\n",
    "for i in range(len(CLASS)):\n",
    "    if l[i]!=9:\n",
    "        a.append(i)\n",
    "dft9=df.drop(a)\n",
    "\n",
    "std9 = []\n",
    "for col in dft9:\n",
    "    std9.append(np.std(dft9[col]))\n",
    "    \n",
    "v9 = []\n",
    "for i in range(len(std9)):\n",
    "    if std9[i]<s:\n",
    "        v9.append(i)"
   ]
  },
  {
   "cell_type": "code",
   "execution_count": 18,
   "metadata": {},
   "outputs": [],
   "source": [
    "a=[]\n",
    "for i in range(len(CLASS)):\n",
    "    if l[i]!=10:\n",
    "        a.append(i)\n",
    "dft10=df.drop(a)\n",
    "\n",
    "std10 = []\n",
    "for col in dft10:\n",
    "    std10.append(np.std(dft10[col]))\n",
    "    \n",
    "v10 = []\n",
    "for i in range(len(std10)):\n",
    "    if std10[i]<s:\n",
    "        v10.append(i)"
   ]
  },
  {
   "cell_type": "code",
   "execution_count": 19,
   "metadata": {},
   "outputs": [],
   "source": [
    "a=[]\n",
    "for i in range(len(CLASS)):\n",
    "    if l[i]!=11:\n",
    "        a.append(i)\n",
    "dft11=df.drop(a)\n",
    "\n",
    "std11 = []\n",
    "for col in dft11:\n",
    "    std11.append(np.std(dft11[col]))\n",
    "    \n",
    "v11 = []\n",
    "for i in range(len(std11)):\n",
    "    if std11[i]<s:\n",
    "        v11.append(i)"
   ]
  },
  {
   "cell_type": "code",
   "execution_count": 20,
   "metadata": {},
   "outputs": [],
   "source": [
    "a=[]\n",
    "for i in range(len(CLASS)):\n",
    "    if l[i]!=12:\n",
    "        a.append(i)\n",
    "dft12=df.drop(a)\n",
    "\n",
    "std12 = []\n",
    "for col in dft12:\n",
    "    std12.append(np.std(dft12[col]))\n",
    "    \n",
    "v12 = []\n",
    "for i in range(len(std12)):\n",
    "    if std12[i]<s:\n",
    "        v12.append(i)"
   ]
  },
  {
   "cell_type": "code",
   "execution_count": 21,
   "metadata": {},
   "outputs": [],
   "source": [
    "a=[]\n",
    "for i in range(len(CLASS)):\n",
    "    if l[i]!=13:\n",
    "        a.append(i)\n",
    "dft13=df.drop(a)\n",
    "\n",
    "std13 = []\n",
    "for col in dft13:\n",
    "    std13.append(np.std(dft13[col]))\n",
    "    \n",
    "v13 = []\n",
    "for i in range(len(std13)):\n",
    "    if std13[i]<s:\n",
    "        v13.append(i)"
   ]
  },
  {
   "cell_type": "code",
   "execution_count": 22,
   "metadata": {},
   "outputs": [],
   "source": [
    "a=[]\n",
    "for i in range(len(CLASS)):\n",
    "    if l[i]!=14:\n",
    "        a.append(i)\n",
    "dft14=df.drop(a)\n",
    "\n",
    "std14 = []\n",
    "for col in dft14:\n",
    "    std14.append(np.std(dft14[col]))\n",
    "    \n",
    "v14 = []\n",
    "for i in range(len(std14)):\n",
    "    if std14[i]<s:\n",
    "        v14.append(i)"
   ]
  },
  {
   "cell_type": "code",
   "execution_count": 23,
   "metadata": {},
   "outputs": [],
   "source": [
    "a=[]\n",
    "for i in range(len(CLASS)):\n",
    "    if l[i]!=15:\n",
    "        a.append(i)\n",
    "dft15=df.drop(a)\n",
    "\n",
    "std15 = []\n",
    "for col in dft15:\n",
    "    std15.append(np.std(dft15[col]))\n",
    "    \n",
    "v15 = []\n",
    "for i in range(len(std15)):\n",
    "    if std15[i]<s:\n",
    "        v15.append(i)"
   ]
  },
  {
   "cell_type": "code",
   "execution_count": 24,
   "metadata": {},
   "outputs": [],
   "source": [
    "a=[]\n",
    "for i in range(len(CLASS)):\n",
    "    if l[i]!=16:\n",
    "        a.append(i)\n",
    "dft16=df.drop(a)\n",
    "\n",
    "std16 = []\n",
    "for col in dft16:\n",
    "    std16.append(np.std(dft16[col]))\n",
    "    \n",
    "v16 = []\n",
    "for i in range(len(std16)):\n",
    "    if std16[i]<s:\n",
    "        v16.append(i)"
   ]
  },
  {
   "cell_type": "code",
   "execution_count": 25,
   "metadata": {},
   "outputs": [],
   "source": [
    "a=[]\n",
    "for i in range(len(CLASS)):\n",
    "    if l[i]!=17:\n",
    "        a.append(i)\n",
    "dft17=df.drop(a)\n",
    "\n",
    "std17 = []\n",
    "for col in dft17:\n",
    "    std17.append(np.std(dft17[col]))\n",
    "    \n",
    "v17 = []\n",
    "for i in range(len(std17)):\n",
    "    if std17[i]<s:\n",
    "        v17.append(i)"
   ]
  },
  {
   "cell_type": "code",
   "execution_count": 26,
   "metadata": {},
   "outputs": [],
   "source": [
    "a=[]\n",
    "for i in range(len(CLASS)):\n",
    "    if l[i]!=18:\n",
    "        a.append(i)\n",
    "dft18=df.drop(a)\n",
    "\n",
    "std18 = []\n",
    "for col in dft18:\n",
    "    std18.append(np.std(dft18[col]))\n",
    "    \n",
    "v18 = []\n",
    "for i in range(len(std18)):\n",
    "    if std18[i]<s:\n",
    "        v18.append(i)"
   ]
  },
  {
   "cell_type": "code",
   "execution_count": 27,
   "metadata": {},
   "outputs": [],
   "source": [
    "a=[]\n",
    "for i in range(len(CLASS)):\n",
    "    if l[i]!=19:\n",
    "        a.append(i)\n",
    "dft19=df.drop(a)\n",
    "\n",
    "std19 = []\n",
    "for col in dft19:\n",
    "    std19.append(np.std(dft19[col]))\n",
    "    \n",
    "v19 = []\n",
    "for i in range(len(std19)):\n",
    "    if std19[i]<s:\n",
    "        v19.append(i)"
   ]
  },
  {
   "cell_type": "code",
   "execution_count": 28,
   "metadata": {},
   "outputs": [],
   "source": [
    "a=[]\n",
    "for i in range(len(CLASS)):\n",
    "    if l[i]!=20:\n",
    "        a.append(i)\n",
    "dft20=df.drop(a)\n",
    "\n",
    "std20 = []\n",
    "for col in dft20:\n",
    "    std20.append(np.std(dft20[col]))\n",
    "    \n",
    "v20 = []\n",
    "for i in range(len(std20)):\n",
    "    if std20[i]<s:\n",
    "        v20.append(i)"
   ]
  },
  {
   "cell_type": "code",
   "execution_count": 29,
   "metadata": {},
   "outputs": [],
   "source": [
    "a=[]\n",
    "for i in range(len(CLASS)):\n",
    "    if l[i]!=21:\n",
    "        a.append(i)\n",
    "dft21=df.drop(a)\n",
    "\n",
    "std21 = []\n",
    "for col in dft21:\n",
    "    std21.append(np.std(dft21[col]))\n",
    "    \n",
    "v21 = []\n",
    "for i in range(len(std21)):\n",
    "    if std21[i]<s:\n",
    "        v21.append(i)"
   ]
  },
  {
   "cell_type": "code",
   "execution_count": 30,
   "metadata": {},
   "outputs": [],
   "source": [
    "a=[]\n",
    "for i in range(len(CLASS)):\n",
    "    if l[i]!=22:\n",
    "        a.append(i)\n",
    "dft22=df.drop(a)\n",
    "\n",
    "std22 = []\n",
    "for col in dft22:\n",
    "    std22.append(np.std(dft22[col]))\n",
    "    \n",
    "v22 = []\n",
    "for i in range(len(std22)):\n",
    "    if std22[i]<s:\n",
    "        v22.append(i)"
   ]
  },
  {
   "cell_type": "code",
   "execution_count": 31,
   "metadata": {},
   "outputs": [],
   "source": [
    "a=[]\n",
    "for i in range(len(CLASS)):\n",
    "    if l[i]!=0:\n",
    "        a.append(i)\n",
    "dft0=df.drop(a)\n",
    "\n",
    "std0 = []\n",
    "for col in dft0:\n",
    "    std0.append(np.std(dft0[col]))\n",
    "    \n",
    "v0 = []\n",
    "for i in range(len(std0)):\n",
    "    if std0[i]<s:\n",
    "        v0.append(i)"
   ]
  },
  {
   "cell_type": "code",
   "execution_count": 32,
   "metadata": {},
   "outputs": [
    {
     "name": "stdout",
     "output_type": "stream",
     "text": [
      "{4.0: 18, 5.0: 19, 7.0: 17, 8.0: 19, 13.0: 19, 14.0: 19, 15.0: 19, 16.0: 19, 17.0: 19, 18.0: 19, 20.0: 19, 21.0: 19, 22.0: 19, 28.0: 19, 29.0: 19, 32.0: 19, 33.0: 19, 34.0: 19, 35.0: 19, 42.0: 19, 43.0: 19, 50.0: 19, 51.0: 19, 57.0: 19, 56.0: 15, 26.0: 12, 19.0: 3, 24.0: 8, 0.0: 1, 1.0: 1, 2.0: 1, 3.0: 1, 6.0: 1, 9.0: 1, 10.0: 1, 11.0: 1, 12.0: 1, 23.0: 1, 25.0: 2, 27.0: 1, 30.0: 1, 31.0: 2, 36.0: 1, 37.0: 1, 38.0: 1, 39.0: 5, 40.0: 2, 41.0: 6, 44.0: 6, 45.0: 6, 46.0: 1, 47.0: 10, 48.0: 3, 49.0: 9, 52.0: 9, 53.0: 9, 54.0: 1, 55.0: 1}\n"
     ]
    }
   ],
   "source": [
    "#find columns(terms) are matched standard and count them\n",
    "v=np.concatenate((v0,v1,v2,v3,v4,v5,v6,v7,v8,v9,v10,v11,v12,v13,v14,v15,v16,v17,v18,v19,v20,v21,v22),axis=None)\n",
    "a=dict(Counter(v))\n",
    "print(a)"
   ]
  },
  {
   "cell_type": "code",
   "execution_count": 33,
   "metadata": {},
   "outputs": [],
   "source": [
    "#find the difference between the same column from two different type stars\n",
    "d=[]\n",
    "m=min(len(dft0),len(dft1))\n",
    "for col in df:\n",
    "    d.append(np.std(np.subtract(np.array(dft0[col][0:m-1]),np.array(dft1[col][0:m-1]))))"
   ]
  },
  {
   "cell_type": "code",
   "execution_count": 34,
   "metadata": {},
   "outputs": [],
   "source": [
    "#set determine standard and find columns are satisfy determine standard\n",
    "k=50\n",
    "d1=[]\n",
    "for i in range(len(d)):\n",
    "    if d[i]>k:\n",
    "        d1.append(i)"
   ]
  },
  {
   "cell_type": "code",
   "execution_count": 35,
   "metadata": {},
   "outputs": [],
   "source": [
    "d=[]\n",
    "m=min(len(dft0),len(dft2))\n",
    "for col in df:\n",
    "    d.append(np.std(np.subtract(np.array(dft0[col][0:m-1]),np.array(dft2[col][0:m-1]))))\n",
    "    \n",
    "d2=[]\n",
    "for i in range(len(d)):\n",
    "    if d[i]>k:\n",
    "        d2.append(i)"
   ]
  },
  {
   "cell_type": "code",
   "execution_count": 36,
   "metadata": {},
   "outputs": [],
   "source": [
    "d=[]\n",
    "m=min(len(dft0),len(dft3))\n",
    "for col in df:\n",
    "    d.append(np.std(np.subtract(np.array(dft0[col][0:m-1]),np.array(dft3[col][0:m-1]))))\n",
    "    \n",
    "d3=[]\n",
    "for i in range(len(d)):\n",
    "    if d[i]>k:\n",
    "        d3.append(i)"
   ]
  },
  {
   "cell_type": "code",
   "execution_count": 37,
   "metadata": {},
   "outputs": [],
   "source": [
    "d=[]\n",
    "m=min(len(dft0),len(dft4))\n",
    "for col in df:\n",
    "    d.append(np.std(np.subtract(np.array(dft0[col][0:m-1]),np.array(dft4[col][0:m-1]))))\n",
    "    \n",
    "d4=[]\n",
    "for i in range(len(d)):\n",
    "    if d[i]>k:\n",
    "        d4.append(i)"
   ]
  },
  {
   "cell_type": "code",
   "execution_count": 38,
   "metadata": {},
   "outputs": [],
   "source": [
    "d=[]\n",
    "m=min(len(dft0),len(dft5))\n",
    "for col in df:\n",
    "    d.append(np.std(np.subtract(np.array(dft0[col][0:m-1]),np.array(dft5[col][0:m-1]))))\n",
    "    \n",
    "d5=[]\n",
    "for i in range(len(d)):\n",
    "    if d[i]>k:\n",
    "        d5.append(i)"
   ]
  },
  {
   "cell_type": "code",
   "execution_count": 39,
   "metadata": {},
   "outputs": [],
   "source": [
    "d=[]\n",
    "m=min(len(dft0),len(dft6))\n",
    "for col in df:\n",
    "    d.append(np.std(np.subtract(np.array(dft0[col][0:m-1]),np.array(dft6[col][0:m-1]))))\n",
    "    \n",
    "d6=[]\n",
    "for i in range(len(d)):\n",
    "    if d[i]>k:\n",
    "        d6.append(i)"
   ]
  },
  {
   "cell_type": "code",
   "execution_count": 59,
   "metadata": {},
   "outputs": [],
   "source": [
    "d=[]\n",
    "m=min(len(dft0),len(dft7))\n",
    "for col in df:\n",
    "    d.append(np.std(np.subtract(np.array(dft0[col][0:m-1]),np.array(dft7[col][0:m-1]))))\n",
    "    \n",
    "d7=[]\n",
    "for i in range(len(d)):\n",
    "    if d[i]>k:\n",
    "        d7.append(i)"
   ]
  },
  {
   "cell_type": "code",
   "execution_count": 41,
   "metadata": {},
   "outputs": [],
   "source": [
    "d=[]\n",
    "m=min(len(dft0),len(dft8))\n",
    "for col in df:\n",
    "    d.append(np.std(np.subtract(np.array(dft0[col][0:m-1]),np.array(dft8[col][0:m-1]))))\n",
    "    \n",
    "d8=[]\n",
    "for i in range(len(d)):\n",
    "    if d[i]>k:\n",
    "        d8.append(i)"
   ]
  },
  {
   "cell_type": "code",
   "execution_count": 42,
   "metadata": {},
   "outputs": [],
   "source": [
    "d=[]\n",
    "m=min(len(dft0),len(dft9))\n",
    "for col in df:\n",
    "    d.append(np.std(np.subtract(np.array(dft0[col][0:m-1]),np.array(dft9[col][0:m-1]))))\n",
    "    \n",
    "d9=[]\n",
    "for i in range(len(d)):\n",
    "    if d[i]>k:\n",
    "        d9.append(i)"
   ]
  },
  {
   "cell_type": "code",
   "execution_count": 43,
   "metadata": {},
   "outputs": [],
   "source": [
    "d=[]\n",
    "m=min(len(dft0),len(dft11))\n",
    "for col in df:\n",
    "    d.append(np.std(np.subtract(np.array(dft0[col][0:m-1]),np.array(dft11[col][0:m-1]))))\n",
    "    \n",
    "d11=[]\n",
    "for i in range(len(d)):\n",
    "    if d[i]>k:\n",
    "        d11.append(i)"
   ]
  },
  {
   "cell_type": "code",
   "execution_count": 44,
   "metadata": {},
   "outputs": [],
   "source": [
    "d=[]\n",
    "m=min(len(dft0),len(dft13))\n",
    "for col in df:\n",
    "    d.append(np.std(np.subtract(np.array(dft0[col][0:m-1]),np.array(dft13[col][0:m-1]))))\n",
    "    \n",
    "d13=[]\n",
    "for i in range(len(d)):\n",
    "    if d[i]>k:\n",
    "        d13.append(i)"
   ]
  },
  {
   "cell_type": "code",
   "execution_count": 45,
   "metadata": {},
   "outputs": [],
   "source": [
    "d=[]\n",
    "m=min(len(dft0),len(dft14))\n",
    "for col in df:\n",
    "    d.append(np.std(np.subtract(np.array(dft0[col][0:m-1]),np.array(dft14[col][0:m-1]))))\n",
    "    \n",
    "d14=[]\n",
    "for i in range(len(d)):\n",
    "    if d[i]>k:\n",
    "        d14.append(i)"
   ]
  },
  {
   "cell_type": "code",
   "execution_count": 46,
   "metadata": {},
   "outputs": [],
   "source": [
    "d=[]\n",
    "m=min(len(dft0),len(dft15))\n",
    "for col in df:\n",
    "    d.append(np.std(np.subtract(np.array(dft0[col][0:m-1]),np.array(dft15[col][0:m-1]))))\n",
    "    \n",
    "d15=[]\n",
    "for i in range(len(d)):\n",
    "    if d[i]>k:\n",
    "        d15.append(i)"
   ]
  },
  {
   "cell_type": "code",
   "execution_count": 47,
   "metadata": {},
   "outputs": [],
   "source": [
    "d=[]\n",
    "m=min(len(dft0),len(dft16))\n",
    "for col in df:\n",
    "    d.append(np.std(np.subtract(np.array(dft0[col][0:m-1]),np.array(dft16[col][0:m-1]))))\n",
    "    \n",
    "d16=[]\n",
    "for i in range(len(d)):\n",
    "    if d[i]>k:\n",
    "        d16.append(i)"
   ]
  },
  {
   "cell_type": "code",
   "execution_count": 48,
   "metadata": {},
   "outputs": [],
   "source": [
    "d=[]\n",
    "m=min(len(dft0),len(dft17))\n",
    "for col in df:\n",
    "    d.append(np.std(np.subtract(np.array(dft0[col][0:m-1]),np.array(dft17[col][0:m-1]))))\n",
    "    \n",
    "d17=[]\n",
    "for i in range(len(d)):\n",
    "    if d[i]>k:\n",
    "        d17.append(i)"
   ]
  },
  {
   "cell_type": "code",
   "execution_count": 49,
   "metadata": {},
   "outputs": [],
   "source": [
    "d=[]\n",
    "m=min(len(dft0),len(dft18))\n",
    "for col in df:\n",
    "    d.append(np.std(np.subtract(np.array(dft0[col][0:m-1]),np.array(dft18[col][0:m-1]))))\n",
    "    \n",
    "d18=[]\n",
    "for i in range(len(d)):\n",
    "    if d[i]>k:\n",
    "        d18.append(i)"
   ]
  },
  {
   "cell_type": "code",
   "execution_count": 50,
   "metadata": {},
   "outputs": [],
   "source": [
    "d=[]\n",
    "m=min(len(dft0),len(dft20))\n",
    "for col in df:\n",
    "    d.append(np.std(np.subtract(np.array(dft0[col][0:m-1]),np.array(dft20[col][0:m-1]))))\n",
    "    \n",
    "d20=[]\n",
    "for i in range(len(d)):\n",
    "    if d[i]>k:\n",
    "        d20.append(i)"
   ]
  },
  {
   "cell_type": "code",
   "execution_count": 51,
   "metadata": {},
   "outputs": [],
   "source": [
    "d=[]\n",
    "m=min(len(dft0),len(dft21))\n",
    "for col in df:\n",
    "    d.append(np.std(np.subtract(np.array(dft0[col][0:m-1]),np.array(dft21[col][0:m-1]))))\n",
    "    \n",
    "d21=[]\n",
    "for i in range(len(d)):\n",
    "    if d[i]>k:\n",
    "        d21.append(i)"
   ]
  },
  {
   "cell_type": "code",
   "execution_count": 52,
   "metadata": {},
   "outputs": [],
   "source": [
    "d=[]\n",
    "m=min(len(dft0),len(dft22))\n",
    "for col in df:\n",
    "    d.append(np.std(np.subtract(np.array(dft0[col][0:m-1]),np.array(dft22[col][0:m-1]))))\n",
    "    \n",
    "d22=[]\n",
    "for i in range(len(d)):\n",
    "    if d[i]>k:\n",
    "        d22.append(i)"
   ]
  },
  {
   "cell_type": "code",
   "execution_count": 53,
   "metadata": {},
   "outputs": [
    {
     "name": "stdout",
     "output_type": "stream",
     "text": [
      "{0.0: 9, 1.0: 14, 2.0: 16, 6.0: 15, 9.0: 15, 10.0: 16, 12.0: 16, 37.0: 16, 38.0: 9, 44.0: 13, 45.0: 13, 46.0: 12, 52.0: 12, 53.0: 12, 54.0: 12, 55.0: 3, 11.0: 1, 3.0: 2}\n"
     ]
    }
   ],
   "source": [
    "#find columns(terms) are matched standard and count them\n",
    "d=np.concatenate((d1,d2,d3,d4,d5,d6,d7,d8,d9,d11,d13,d14,d15,d16,d17,d18,d20,d21,d22),axis=None)\n",
    "a=dict(Counter(d))\n",
    "print(a)"
   ]
  },
  {
   "cell_type": "code",
   "execution_count": 54,
   "metadata": {},
   "outputs": [],
   "source": [
    "#identity\n",
    "#4,5,7,8,13,14,15,16,17,18,20,21,22,28,29,32,33,34,35,42,43,50,51,57,56"
   ]
  },
  {
   "cell_type": "code",
   "execution_count": 55,
   "metadata": {},
   "outputs": [],
   "source": [
    "#identity drop\n",
    "#0,1,2,3,6,9,10,11,12,19,23,24,25,26,27,30,31,36,37,38,39,40,41,44,45,46,47,48,49,52,53,54,55"
   ]
  },
  {
   "cell_type": "code",
   "execution_count": 56,
   "metadata": {},
   "outputs": [],
   "source": [
    "#diff\n",
    "#0,1,2,6,9,10,12,37,38,44,45,46,52,53,54"
   ]
  },
  {
   "cell_type": "code",
   "execution_count": 57,
   "metadata": {},
   "outputs": [],
   "source": [
    "#diff drop\n",
    "#3,4,5,7,8,11,13,14,15,16,17,18,19,20,21,22,23,24,25,26,27,28,29,30,31,32,33,34,35,36,39,40,41,42,43,47,48,49,50,51,55,56"
   ]
  },
  {
   "cell_type": "code",
   "execution_count": 58,
   "metadata": {},
   "outputs": [],
   "source": [
    "#random drop\n",
    "#3,11,19,23,24,25,26,27,30,31,36,39,40,41,47,48,49,55\n",
    "#4, 7, 56, 26, 19, 57, 24, 0, 1, 2, 3, 6, 9, 11, 23, 25, 27, 30, 31, 36, 38, 39, 40, 41, 44, 45, 46, 47, 48, 49, 52, 53, 54, 55\n",
    "#3,11,19,23,24,25,26,27,28,29,30,31,32,33,34,35,36,38,39,40,41,47,48,49,55,56,57"
   ]
  }
 ],
 "metadata": {
  "kernelspec": {
   "display_name": "Python 3",
   "language": "python",
   "name": "python3"
  },
  "language_info": {
   "codemirror_mode": {
    "name": "ipython",
    "version": 3
   },
   "file_extension": ".py",
   "mimetype": "text/x-python",
   "name": "python",
   "nbconvert_exporter": "python",
   "pygments_lexer": "ipython3",
   "version": "3.7.4"
  }
 },
 "nbformat": 4,
 "nbformat_minor": 2
}
